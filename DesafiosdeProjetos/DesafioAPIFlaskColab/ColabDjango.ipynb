{
  "nbformat": 4,
  "nbformat_minor": 0,
  "metadata": {
    "colab": {
      "provenance": []
    },
    "kernelspec": {
      "name": "python3",
      "display_name": "Python 3"
    },
    "language_info": {
      "name": "python"
    }
  },
  "cells": [
    {
      "cell_type": "markdown",
      "source": [
        "Instalando o Django: "
      ],
      "metadata": {
        "id": "He8_Ko8LAXwX"
      }
    },
    {
      "cell_type": "code",
      "execution_count": null,
      "metadata": {
        "colab": {
          "base_uri": "https://localhost:8080/"
        },
        "id": "l0XVSvu596_B",
        "outputId": "8f428bc0-6b2b-42fb-a263-f3d38338f942"
      },
      "outputs": [
        {
          "output_type": "stream",
          "name": "stdout",
          "text": [
            "Looking in indexes: https://pypi.org/simple, https://us-python.pkg.dev/colab-wheels/public/simple/\n",
            "Collecting o\n",
            "  Downloading o-0.0.2b2-py3-none-any.whl (4.9 kB)\n",
            "Collecting django\n",
            "  Downloading Django-3.2.16-py3-none-any.whl (7.9 MB)\n",
            "\u001b[K     |████████████████████████████████| 7.9 MB 4.2 MB/s \n",
            "\u001b[?25hRequirement already satisfied: pytz in /usr/local/lib/python3.7/dist-packages (from django) (2022.5)\n",
            "Requirement already satisfied: sqlparse>=0.2.2 in /usr/local/lib/python3.7/dist-packages (from django) (0.4.3)\n",
            "Collecting asgiref<4,>=3.3.2\n",
            "  Downloading asgiref-3.5.2-py3-none-any.whl (22 kB)\n",
            "Requirement already satisfied: typing-extensions in /usr/local/lib/python3.7/dist-packages (from asgiref<4,>=3.3.2->django) (4.1.1)\n",
            "Installing collected packages: asgiref, o, django\n",
            "Successfully installed asgiref-3.5.2 django-3.2.16 o-0.0.2b2\n"
          ]
        }
      ],
      "source": [
        "!pip install o django"
      ]
    },
    {
      "cell_type": "markdown",
      "source": [
        "Criando uma pasta de projeto"
      ],
      "metadata": {
        "id": "C_E20EATAn7Y"
      }
    },
    {
      "cell_type": "code",
      "source": [
        "!django-admin startproject portfolio"
      ],
      "metadata": {
        "id": "pHe0ECWPAhSY"
      },
      "execution_count": null,
      "outputs": []
    },
    {
      "cell_type": "markdown",
      "source": [
        "Acessando a pasta de projeto criada"
      ],
      "metadata": {
        "id": "M-TsJn-VAz6W"
      }
    },
    {
      "cell_type": "code",
      "source": [
        "%cd portfolio/"
      ],
      "metadata": {
        "colab": {
          "base_uri": "https://localhost:8080/"
        },
        "id": "yhwJ7d86A3Sl",
        "outputId": "1590e458-96c1-4517-fe67-f1dad6fb0491"
      },
      "execution_count": null,
      "outputs": [
        {
          "output_type": "stream",
          "name": "stdout",
          "text": [
            "/content/portfolio\n"
          ]
        }
      ]
    },
    {
      "cell_type": "markdown",
      "source": [
        "importando eval_js e printando o projeto em uma porta selecionada"
      ],
      "metadata": {
        "id": "qYAYakPvA_CV"
      }
    },
    {
      "cell_type": "code",
      "source": [
        "from google.colab.output import eval_js\n",
        "print(eval_js(\"google.colab.kernel.proxyPort(8000)\"))"
      ],
      "metadata": {
        "colab": {
          "base_uri": "https://localhost:8080/",
          "height": 34
        },
        "id": "eIjhWyxLBGZX",
        "outputId": "70d7f6e0-d1c7-411d-9688-8cf4dd3f4872"
      },
      "execution_count": null,
      "outputs": [
        {
          "output_type": "stream",
          "name": "stdout",
          "text": [
            "https://265wc7y0vou-496ff2e9c6d22116-8000-colab.googleusercontent.com/\n"
          ]
        }
      ]
    },
    {
      "cell_type": "markdown",
      "source": [
        "Adicionando o Google Colab ao servidor de desenvolvimento"
      ],
      "metadata": {
        "id": "_Pa3J32bBfo_"
      }
    },
    {
      "cell_type": "code",
      "source": [
        "ALLOWED_HOSTS = ['colab.research.google.com']"
      ],
      "metadata": {
        "id": "omQnV8H-BMEm"
      },
      "execution_count": null,
      "outputs": []
    },
    {
      "cell_type": "markdown",
      "source": [
        "Executando servidor  **(Não clicar no link fornecido pelo comando abaixo)**"
      ],
      "metadata": {
        "id": "WAU_KzVEB8I2"
      }
    },
    {
      "cell_type": "code",
      "source": [
        "!python manage.py runserver 8000"
      ],
      "metadata": {
        "colab": {
          "base_uri": "https://localhost:8080/"
        },
        "id": "0vZFG4JDBr9Q",
        "outputId": "3677cf6e-cd0f-479e-ce33-ac760068ace7"
      },
      "execution_count": null,
      "outputs": [
        {
          "output_type": "stream",
          "name": "stdout",
          "text": [
            "Watching for file changes with StatReloader\n",
            "Performing system checks...\n",
            "\n",
            "System check identified no issues (0 silenced).\n",
            "\u001b[31m\n",
            "You have 18 unapplied migration(s). Your project may not work properly until you apply the migrations for app(s): admin, auth, contenttypes, sessions.\u001b[0m\n",
            "\u001b[31mRun 'python manage.py migrate' to apply them.\u001b[0m\n",
            "November 07, 2022 - 16:59:23\n",
            "Django version 3.2.16, using settings 'portfolio.settings'\n",
            "Starting development server at http://127.0.0.1:8000/\n",
            "Quit the server with CONTROL-C.\n",
            "Invalid HTTP_HOST header: 'colab.research.google.com'. You may need to add 'colab.research.google.com' to ALLOWED_HOSTS.\n",
            "Bad Request: /\n",
            "[07/Nov/2022 16:59:48] \u001b[31;1m\"GET / HTTP/1.1\" 400 70593\u001b[0m\n"
          ]
        }
      ]
    }
  ]
}