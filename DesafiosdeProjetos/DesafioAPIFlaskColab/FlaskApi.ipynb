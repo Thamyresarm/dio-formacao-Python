{
  "nbformat": 4,
  "nbformat_minor": 0,
  "metadata": {
    "colab": {
      "provenance": [],
      "collapsed_sections": []
    },
    "kernelspec": {
      "name": "python3",
      "display_name": "Python 3"
    },
    "language_info": {
      "name": "python"
    }
  },
  "cells": [
    {
      "cell_type": "markdown",
      "source": [
        "Instalação do Flask"
      ],
      "metadata": {
        "id": "-pyf3RpVEY6g"
      }
    },
    {
      "cell_type": "code",
      "execution_count": null,
      "metadata": {
        "colab": {
          "base_uri": "https://localhost:8080/"
        },
        "id": "9POQtfSTDV3h",
        "outputId": "abb03eda-7e0b-4053-e4c8-42ef344384d4"
      },
      "outputs": [
        {
          "output_type": "stream",
          "name": "stdout",
          "text": [
            "Looking in indexes: https://pypi.org/simple, https://us-python.pkg.dev/colab-wheels/public/simple/\n",
            "Requirement already satisfied: flask in /usr/local/lib/python3.7/dist-packages (1.1.4)\n",
            "Requirement already satisfied: Werkzeug<2.0,>=0.15 in /usr/local/lib/python3.7/dist-packages (from flask) (1.0.1)\n",
            "Requirement already satisfied: itsdangerous<2.0,>=0.24 in /usr/local/lib/python3.7/dist-packages (from flask) (1.1.0)\n",
            "Requirement already satisfied: click<8.0,>=5.1 in /usr/local/lib/python3.7/dist-packages (from flask) (7.1.2)\n",
            "Requirement already satisfied: Jinja2<3.0,>=2.10.1 in /usr/local/lib/python3.7/dist-packages (from flask) (2.11.3)\n",
            "Requirement already satisfied: MarkupSafe>=0.23 in /usr/local/lib/python3.7/dist-packages (from Jinja2<3.0,>=2.10.1->flask) (2.0.1)\n",
            "Looking in indexes: https://pypi.org/simple, https://us-python.pkg.dev/colab-wheels/public/simple/\n",
            "Requirement already satisfied: flask_ngrok in /usr/local/lib/python3.7/dist-packages (0.0.25)\n",
            "Requirement already satisfied: requests in /usr/local/lib/python3.7/dist-packages (from flask_ngrok) (2.23.0)\n",
            "Requirement already satisfied: Flask>=0.8 in /usr/local/lib/python3.7/dist-packages (from flask_ngrok) (1.1.4)\n",
            "Requirement already satisfied: Jinja2<3.0,>=2.10.1 in /usr/local/lib/python3.7/dist-packages (from Flask>=0.8->flask_ngrok) (2.11.3)\n",
            "Requirement already satisfied: Werkzeug<2.0,>=0.15 in /usr/local/lib/python3.7/dist-packages (from Flask>=0.8->flask_ngrok) (1.0.1)\n",
            "Requirement already satisfied: click<8.0,>=5.1 in /usr/local/lib/python3.7/dist-packages (from Flask>=0.8->flask_ngrok) (7.1.2)\n",
            "Requirement already satisfied: itsdangerous<2.0,>=0.24 in /usr/local/lib/python3.7/dist-packages (from Flask>=0.8->flask_ngrok) (1.1.0)\n",
            "Requirement already satisfied: MarkupSafe>=0.23 in /usr/local/lib/python3.7/dist-packages (from Jinja2<3.0,>=2.10.1->Flask>=0.8->flask_ngrok) (2.0.1)\n",
            "Requirement already satisfied: urllib3!=1.25.0,!=1.25.1,<1.26,>=1.21.1 in /usr/local/lib/python3.7/dist-packages (from requests->flask_ngrok) (1.24.3)\n",
            "Requirement already satisfied: chardet<4,>=3.0.2 in /usr/local/lib/python3.7/dist-packages (from requests->flask_ngrok) (3.0.4)\n",
            "Requirement already satisfied: certifi>=2017.4.17 in /usr/local/lib/python3.7/dist-packages (from requests->flask_ngrok) (2022.9.24)\n",
            "Requirement already satisfied: idna<3,>=2.5 in /usr/local/lib/python3.7/dist-packages (from requests->flask_ngrok) (2.10)\n"
          ]
        }
      ],
      "source": [
        "!pip install flask\n",
        "!pip install flask_ngrok"
      ]
    },
    {
      "cell_type": "markdown",
      "source": [
        "Importação"
      ],
      "metadata": {
        "id": "Oj_5qiikEsQP"
      }
    },
    {
      "cell_type": "code",
      "source": [
        "from flask import * \n",
        "from flask_ngrok import run_with_ngrok"
      ],
      "metadata": {
        "id": "Sb-2i56dEkwg"
      },
      "execution_count": null,
      "outputs": []
    },
    {
      "cell_type": "markdown",
      "source": [
        "Rota de indexação"
      ],
      "metadata": {
        "id": "dq3Xm6gVFJ_2"
      }
    },
    {
      "cell_type": "code",
      "source": [
        "app = Flask(__name__)\n",
        "@app.route('/index')\n",
        "def home():\n",
        "  return 'Hello World'"
      ],
      "metadata": {
        "id": "czPFcAUEFJNm"
      },
      "execution_count": null,
      "outputs": []
    },
    {
      "cell_type": "markdown",
      "source": [
        "Levantar Servidor com a pagina"
      ],
      "metadata": {
        "id": "qg4iw0pvFir_"
      }
    },
    {
      "cell_type": "code",
      "source": [
        "run_with_ngrok(app)\n",
        "app.run()"
      ],
      "metadata": {
        "colab": {
          "base_uri": "https://localhost:8080/"
        },
        "id": "pJBsMNatFaln",
        "outputId": "db959d33-60b7-4d47-a207-7e3e228717bc"
      },
      "execution_count": null,
      "outputs": [
        {
          "output_type": "stream",
          "name": "stdout",
          "text": [
            " * Serving Flask app \"__main__\" (lazy loading)\n",
            " * Environment: production\n",
            "\u001b[31m   WARNING: This is a development server. Do not use it in a production deployment.\u001b[0m\n",
            "\u001b[2m   Use a production WSGI server instead.\u001b[0m\n",
            " * Debug mode: off\n"
          ]
        },
        {
          "output_type": "stream",
          "name": "stderr",
          "text": [
            "INFO:werkzeug: * Running on http://127.0.0.1:5000/ (Press CTRL+C to quit)\n"
          ]
        },
        {
          "output_type": "stream",
          "name": "stdout",
          "text": [
            " * Running on http://ddc3-34-83-103-107.ngrok.io\n",
            " * Traffic stats available on http://127.0.0.1:4040\n"
          ]
        }
      ]
    },
    {
      "cell_type": "markdown",
      "source": [
        "Instalação do FastAPI"
      ],
      "metadata": {
        "id": "2UMSTQrtGHxe"
      }
    },
    {
      "cell_type": "code",
      "source": [
        "!pip install fastapi nest-asyncio pyngrok uvicorn"
      ],
      "metadata": {
        "colab": {
          "base_uri": "https://localhost:8080/"
        },
        "id": "vUUmXby1Ft_u",
        "outputId": "37b119cc-4c0c-443e-9785-01445af3ce42"
      },
      "execution_count": null,
      "outputs": [
        {
          "output_type": "stream",
          "name": "stdout",
          "text": [
            "Looking in indexes: https://pypi.org/simple, https://us-python.pkg.dev/colab-wheels/public/simple/\n",
            "Collecting fastapi\n",
            "  Downloading fastapi-0.86.0-py3-none-any.whl (55 kB)\n",
            "\u001b[K     |████████████████████████████████| 55 kB 2.3 MB/s \n",
            "\u001b[?25hCollecting nest-asyncio\n",
            "  Downloading nest_asyncio-1.5.6-py3-none-any.whl (5.2 kB)\n",
            "Collecting pyngrok\n",
            "  Downloading pyngrok-5.1.0.tar.gz (745 kB)\n",
            "\u001b[K     |████████████████████████████████| 745 kB 15.6 MB/s \n",
            "\u001b[?25hCollecting uvicorn\n",
            "  Downloading uvicorn-0.19.0-py3-none-any.whl (56 kB)\n",
            "\u001b[K     |████████████████████████████████| 56 kB 3.7 MB/s \n",
            "\u001b[?25hRequirement already satisfied: pydantic!=1.7,!=1.7.1,!=1.7.2,!=1.7.3,!=1.8,!=1.8.1,<2.0.0,>=1.6.2 in /usr/local/lib/python3.7/dist-packages (from fastapi) (1.10.2)\n",
            "Collecting starlette==0.20.4\n",
            "  Downloading starlette-0.20.4-py3-none-any.whl (63 kB)\n",
            "\u001b[K     |████████████████████████████████| 63 kB 1.7 MB/s \n",
            "\u001b[?25hCollecting anyio<5,>=3.4.0\n",
            "  Downloading anyio-3.6.2-py3-none-any.whl (80 kB)\n",
            "\u001b[K     |████████████████████████████████| 80 kB 6.7 MB/s \n",
            "\u001b[?25hRequirement already satisfied: typing-extensions>=3.10.0 in /usr/local/lib/python3.7/dist-packages (from starlette==0.20.4->fastapi) (4.1.1)\n",
            "Collecting sniffio>=1.1\n",
            "  Downloading sniffio-1.3.0-py3-none-any.whl (10 kB)\n",
            "Requirement already satisfied: idna>=2.8 in /usr/local/lib/python3.7/dist-packages (from anyio<5,>=3.4.0->starlette==0.20.4->fastapi) (2.10)\n",
            "Requirement already satisfied: PyYAML in /usr/local/lib/python3.7/dist-packages (from pyngrok) (6.0)\n",
            "Requirement already satisfied: click>=7.0 in /usr/local/lib/python3.7/dist-packages (from uvicorn) (7.1.2)\n",
            "Collecting h11>=0.8\n",
            "  Downloading h11-0.14.0-py3-none-any.whl (58 kB)\n",
            "\u001b[K     |████████████████████████████████| 58 kB 2.8 MB/s \n",
            "\u001b[?25hBuilding wheels for collected packages: pyngrok\n",
            "  Building wheel for pyngrok (setup.py) ... \u001b[?25l\u001b[?25hdone\n",
            "  Created wheel for pyngrok: filename=pyngrok-5.1.0-py3-none-any.whl size=19007 sha256=bee3a9613081b7bce9e4832a988137b8314ba870195886dc1f79740b32dc30db\n",
            "  Stored in directory: /root/.cache/pip/wheels/bf/e6/af/ccf6598ecefecd44104069371795cb9b3afbcd16987f6ccfb3\n",
            "Successfully built pyngrok\n",
            "Installing collected packages: sniffio, anyio, starlette, h11, uvicorn, pyngrok, nest-asyncio, fastapi\n",
            "Successfully installed anyio-3.6.2 fastapi-0.86.0 h11-0.14.0 nest-asyncio-1.5.6 pyngrok-5.1.0 sniffio-1.3.0 starlette-0.20.4 uvicorn-0.19.0\n"
          ]
        }
      ]
    },
    {
      "cell_type": "markdown",
      "source": [
        "Importação do fastapi"
      ],
      "metadata": {
        "id": "LDxqp02ZGVIX"
      }
    },
    {
      "cell_type": "code",
      "source": [
        "from fastapi import FastAPI\n",
        "import nest_asyncio\n",
        "from pyngrok import ngrok\n",
        "import uvicorn\n",
        "\n",
        "app = FastAPI()\n",
        "@app.get('/index')\n",
        "async def home():\n",
        "  return \"Hello Word2\"\n",
        "\n",
        "ngrok_tunnel = ngrok.connect(8000)\n",
        "print('Public URL:', ngrok_tunnel.public_url)\n",
        "nest_asyncio.apply()\n",
        "uvicorn.run(app, port=8000)"
      ],
      "metadata": {
        "colab": {
          "base_uri": "https://localhost:8080/"
        },
        "id": "uBTnLLOfGRCl",
        "outputId": "9ea5dd07-ad53-4ae9-8b50-72a666191d47"
      },
      "execution_count": null,
      "outputs": [
        {
          "metadata": {
            "tags": null
          },
          "name": "stdout",
          "output_type": "stream",
          "text": [
            "Public URL: http://e7e8-34-83-103-107.ngrok.io\n"
          ]
        },
        {
          "metadata": {
            "tags": null
          },
          "name": "stderr",
          "output_type": "stream",
          "text": [
            "INFO:     Started server process [72]\n",
            "INFO:     Waiting for application startup.\n",
            "INFO:     Application startup complete.\n",
            "INFO:     Uvicorn running on http://127.0.0.1:8000 (Press CTRL+C to quit)\n"
          ]
        },
        {
          "metadata": {
            "tags": null
          },
          "name": "stdout",
          "output_type": "stream",
          "text": [
            "INFO:     152.92.5.73:0 - \"GET / HTTP/1.1\" 404 Not Found\n",
            "INFO:     152.92.5.73:0 - \"GET /favicon.ico HTTP/1.1\" 404 Not Found\n",
            "INFO:     152.92.5.73:0 - \"GET /index HTTP/1.1\" 200 OK\n",
            "INFO:     152.92.5.73:0 - \"GET /favicon.ico HTTP/1.1\" 404 Not Found\n",
            "INFO:     201.64.241.69:0 - \"GET /index HTTP/1.1\" 200 OK\n"
          ]
        }
      ]
    },
    {
      "cell_type": "markdown",
      "source": [
        "![image.png](data:image/png;base64,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)"
      ],
      "metadata": {
        "id": "slbJDRJEIs-b"
      }
    }
  ]
}